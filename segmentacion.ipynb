{
  "nbformat": 4,
  "nbformat_minor": 0,
  "metadata": {
    "colab": {
      "name": "segmentacion.ipynb",
      "provenance": [],
      "collapsed_sections": []
    },
    "kernelspec": {
      "name": "python3",
      "display_name": "Python 3"
    }
  },
  "cells": [
    {
      "cell_type": "markdown",
      "metadata": {
        "id": "frWLH3xIIw9W",
        "colab_type": "text"
      },
      "source": [
        "Bibliotecas necesarias para la práctica"
      ]
    },
    {
      "cell_type": "code",
      "metadata": {
        "id": "fYB7FYBH8mBH",
        "colab_type": "code",
        "colab": {}
      },
      "source": [
        "import cv2\n",
        "import os\n",
        "import numpy as np\n",
        "import matplotlib.pyplot as plt\n",
        "%tensorflow_version 2.x\n",
        "import tensorflow as tf\n",
        "from tensorflow import keras\n",
        "from tensorflow.keras.models import Sequential\n",
        "from tensorflow.keras.layers import Dense, Conv2D, Flatten, Dropout, MaxPooling2D, GlobalAveragePooling2D"
      ],
      "execution_count": null,
      "outputs": []
    },
    {
      "cell_type": "markdown",
      "metadata": {
        "id": "YHHm2V5vI17R",
        "colab_type": "text"
      },
      "source": [
        "Código para poder acceder a los directorios de la cuenta de drive de un usuario"
      ]
    },
    {
      "cell_type": "code",
      "metadata": {
        "id": "d8U1ZhHw81Bi",
        "colab_type": "code",
        "colab": {
          "base_uri": "https://localhost:8080/",
          "height": 35
        },
        "outputId": "f612378d-c80a-4d8a-89f9-cbf98fddf96d"
      },
      "source": [
        "from google.colab import drive\n",
        "drive.mount('/content/drive')\n",
        "# Directorio que contiene las imágenes\n",
        "DATA_DIR = '/content/drive/My Drive/'"
      ],
      "execution_count": null,
      "outputs": [
        {
          "output_type": "stream",
          "text": [
            "Drive already mounted at /content/drive; to attempt to forcibly remount, call drive.mount(\"/content/drive\", force_remount=True).\n"
          ],
          "name": "stdout"
        }
      ]
    },
    {
      "cell_type": "markdown",
      "metadata": {
        "id": "Od-ZQ0L5I8hz",
        "colab_type": "text"
      },
      "source": [
        "Código necesario para cargar las imágenes y las máscaras"
      ]
    },
    {
      "cell_type": "code",
      "metadata": {
        "id": "uL4oEhuO9bKI",
        "colab_type": "code",
        "colab": {
          "base_uri": "https://localhost:8080/",
          "height": 1000
        },
        "outputId": "56155279-75c6-4615-eb0e-1c14596a6f14"
      },
      "source": [
        "#Ruta de las imágenes\n",
        "PATH_TEST_images = DATA_DIR+\"data_segmentation/test/images/\"\n",
        "PATH_TEST_mask = DATA_DIR+\"data_segmentation/test/mask/\"\n",
        "PATH_TRAIN_images = DATA_DIR+\"data_segmentation/train/images/\"\n",
        "PATH_TRAIN_mask = DATA_DIR+\"data_segmentation/train/mask/\"\n",
        "\n",
        "imagenes_train = []\n",
        "mascaras_train = [] \n",
        "imagenes_test = []\n",
        "mascaras_test = [] \n",
        "#PAra el train\n",
        "counter = 0\n",
        "for filename in os.listdir(PATH_TRAIN_images):\n",
        "    filename = PATH_TRAIN_images+filename\n",
        "    #Como hay imágenes de distintos tamaños, la llevamos todas al mismo tamaño\n",
        "    img = cv2.resize(cv2.imread(filename),(256, 256)) \n",
        "    imagenes_train.append(img)\n",
        "    counter += 1\n",
        "    print(\"Leidas \" + str(counter) + \" imágenes de -> train\")\n",
        "\n",
        "counter = 0\n",
        "for filename in os.listdir(PATH_TRAIN_mask):\n",
        "    filename = PATH_TRAIN_mask+filename\n",
        "    #las mascaras las leeremos en escala de grises\n",
        "    img = cv2.resize(cv2.imread(filename, 0),(256, 256))\n",
        "    #umbralizamos con 0 y 1 porque solo nos interesa conocer si hay peatones o no\n",
        "    #el número de peatones y la identificación de los mismos es irrelevante\n",
        "    img[img!=0] = 1 \n",
        "    mascaras_train.append(img)\n",
        "    counter += 1\n",
        "    print(\"Leidas \" + str(counter) + \" mascaras de -> train\")\n",
        "#Realizamos lo mismo para el conjunto test\n",
        "counter = 0\n",
        "for filename in os.listdir(PATH_TEST_images):\n",
        "    filename = PATH_TEST_images+filename\n",
        "    img = cv2.resize(cv2.imread(filename),(256, 256)) \n",
        "    imagenes_test.append(img)\n",
        "    counter += 1\n",
        "    print(\"Leidas \" + str(counter) + \" imágenes de -> test\")\n",
        "\n",
        "counter = 0\n",
        "for filename in os.listdir(PATH_TEST_mask):\n",
        "    filename = PATH_TEST_mask+filename\n",
        "    img = cv2.resize(cv2.imread(filename, 0),(256, 256)) \n",
        "    img[img!=0] = 1 \n",
        "    mascaras_test.append(img)\n",
        "    counter += 1\n",
        "    print(\"Leidas \" + str(counter) + \" mascaras de -> test\")\n",
        "\n",
        "mascaras_test = np.array(mascaras_test)\n",
        "mascaras_train = np.array(mascaras_train)\n",
        "imagenes_train = np.array(imagenes_train)\n",
        "imagenes_test = np.array(imagenes_test)"
      ],
      "execution_count": null,
      "outputs": [
        {
          "output_type": "stream",
          "text": [
            "Leidas 1 imágenes de -> train\n",
            "Leidas 2 imágenes de -> train\n",
            "Leidas 3 imágenes de -> train\n",
            "Leidas 4 imágenes de -> train\n",
            "Leidas 5 imágenes de -> train\n",
            "Leidas 6 imágenes de -> train\n",
            "Leidas 7 imágenes de -> train\n",
            "Leidas 8 imágenes de -> train\n",
            "Leidas 9 imágenes de -> train\n",
            "Leidas 10 imágenes de -> train\n",
            "Leidas 11 imágenes de -> train\n",
            "Leidas 12 imágenes de -> train\n",
            "Leidas 13 imágenes de -> train\n",
            "Leidas 14 imágenes de -> train\n",
            "Leidas 15 imágenes de -> train\n",
            "Leidas 16 imágenes de -> train\n",
            "Leidas 17 imágenes de -> train\n",
            "Leidas 18 imágenes de -> train\n",
            "Leidas 19 imágenes de -> train\n",
            "Leidas 20 imágenes de -> train\n",
            "Leidas 21 imágenes de -> train\n",
            "Leidas 22 imágenes de -> train\n",
            "Leidas 23 imágenes de -> train\n",
            "Leidas 24 imágenes de -> train\n",
            "Leidas 25 imágenes de -> train\n",
            "Leidas 26 imágenes de -> train\n",
            "Leidas 27 imágenes de -> train\n",
            "Leidas 28 imágenes de -> train\n",
            "Leidas 29 imágenes de -> train\n",
            "Leidas 30 imágenes de -> train\n",
            "Leidas 31 imágenes de -> train\n",
            "Leidas 32 imágenes de -> train\n",
            "Leidas 33 imágenes de -> train\n",
            "Leidas 34 imágenes de -> train\n",
            "Leidas 35 imágenes de -> train\n",
            "Leidas 36 imágenes de -> train\n",
            "Leidas 37 imágenes de -> train\n",
            "Leidas 38 imágenes de -> train\n",
            "Leidas 39 imágenes de -> train\n",
            "Leidas 40 imágenes de -> train\n",
            "Leidas 41 imágenes de -> train\n",
            "Leidas 42 imágenes de -> train\n",
            "Leidas 43 imágenes de -> train\n",
            "Leidas 44 imágenes de -> train\n",
            "Leidas 45 imágenes de -> train\n",
            "Leidas 46 imágenes de -> train\n",
            "Leidas 47 imágenes de -> train\n",
            "Leidas 48 imágenes de -> train\n",
            "Leidas 49 imágenes de -> train\n",
            "Leidas 50 imágenes de -> train\n",
            "Leidas 51 imágenes de -> train\n",
            "Leidas 52 imágenes de -> train\n",
            "Leidas 53 imágenes de -> train\n",
            "Leidas 54 imágenes de -> train\n",
            "Leidas 55 imágenes de -> train\n",
            "Leidas 56 imágenes de -> train\n",
            "Leidas 57 imágenes de -> train\n",
            "Leidas 58 imágenes de -> train\n",
            "Leidas 59 imágenes de -> train\n",
            "Leidas 60 imágenes de -> train\n",
            "Leidas 61 imágenes de -> train\n",
            "Leidas 62 imágenes de -> train\n",
            "Leidas 63 imágenes de -> train\n",
            "Leidas 64 imágenes de -> train\n",
            "Leidas 65 imágenes de -> train\n",
            "Leidas 66 imágenes de -> train\n",
            "Leidas 67 imágenes de -> train\n",
            "Leidas 68 imágenes de -> train\n",
            "Leidas 69 imágenes de -> train\n",
            "Leidas 70 imágenes de -> train\n",
            "Leidas 71 imágenes de -> train\n",
            "Leidas 72 imágenes de -> train\n",
            "Leidas 73 imágenes de -> train\n",
            "Leidas 74 imágenes de -> train\n",
            "Leidas 75 imágenes de -> train\n",
            "Leidas 76 imágenes de -> train\n",
            "Leidas 77 imágenes de -> train\n",
            "Leidas 78 imágenes de -> train\n",
            "Leidas 79 imágenes de -> train\n",
            "Leidas 80 imágenes de -> train\n",
            "Leidas 81 imágenes de -> train\n",
            "Leidas 82 imágenes de -> train\n",
            "Leidas 83 imágenes de -> train\n",
            "Leidas 84 imágenes de -> train\n",
            "Leidas 85 imágenes de -> train\n",
            "Leidas 86 imágenes de -> train\n",
            "Leidas 87 imágenes de -> train\n",
            "Leidas 88 imágenes de -> train\n",
            "Leidas 89 imágenes de -> train\n",
            "Leidas 90 imágenes de -> train\n",
            "Leidas 91 imágenes de -> train\n",
            "Leidas 92 imágenes de -> train\n",
            "Leidas 93 imágenes de -> train\n",
            "Leidas 94 imágenes de -> train\n",
            "Leidas 95 imágenes de -> train\n",
            "Leidas 96 imágenes de -> train\n",
            "Leidas 1 mascaras de -> train\n",
            "Leidas 2 mascaras de -> train\n",
            "Leidas 3 mascaras de -> train\n",
            "Leidas 4 mascaras de -> train\n",
            "Leidas 5 mascaras de -> train\n",
            "Leidas 6 mascaras de -> train\n",
            "Leidas 7 mascaras de -> train\n",
            "Leidas 8 mascaras de -> train\n",
            "Leidas 9 mascaras de -> train\n",
            "Leidas 10 mascaras de -> train\n",
            "Leidas 11 mascaras de -> train\n",
            "Leidas 12 mascaras de -> train\n",
            "Leidas 13 mascaras de -> train\n",
            "Leidas 14 mascaras de -> train\n",
            "Leidas 15 mascaras de -> train\n",
            "Leidas 16 mascaras de -> train\n",
            "Leidas 17 mascaras de -> train\n",
            "Leidas 18 mascaras de -> train\n",
            "Leidas 19 mascaras de -> train\n",
            "Leidas 20 mascaras de -> train\n",
            "Leidas 21 mascaras de -> train\n",
            "Leidas 22 mascaras de -> train\n",
            "Leidas 23 mascaras de -> train\n",
            "Leidas 24 mascaras de -> train\n",
            "Leidas 25 mascaras de -> train\n",
            "Leidas 26 mascaras de -> train\n",
            "Leidas 27 mascaras de -> train\n",
            "Leidas 28 mascaras de -> train\n",
            "Leidas 29 mascaras de -> train\n",
            "Leidas 30 mascaras de -> train\n",
            "Leidas 31 mascaras de -> train\n",
            "Leidas 32 mascaras de -> train\n",
            "Leidas 33 mascaras de -> train\n",
            "Leidas 34 mascaras de -> train\n",
            "Leidas 35 mascaras de -> train\n",
            "Leidas 36 mascaras de -> train\n",
            "Leidas 37 mascaras de -> train\n",
            "Leidas 38 mascaras de -> train\n",
            "Leidas 39 mascaras de -> train\n",
            "Leidas 40 mascaras de -> train\n",
            "Leidas 41 mascaras de -> train\n",
            "Leidas 42 mascaras de -> train\n",
            "Leidas 43 mascaras de -> train\n",
            "Leidas 44 mascaras de -> train\n",
            "Leidas 45 mascaras de -> train\n",
            "Leidas 46 mascaras de -> train\n",
            "Leidas 47 mascaras de -> train\n",
            "Leidas 48 mascaras de -> train\n",
            "Leidas 49 mascaras de -> train\n",
            "Leidas 50 mascaras de -> train\n",
            "Leidas 51 mascaras de -> train\n",
            "Leidas 52 mascaras de -> train\n",
            "Leidas 53 mascaras de -> train\n",
            "Leidas 54 mascaras de -> train\n",
            "Leidas 55 mascaras de -> train\n",
            "Leidas 56 mascaras de -> train\n",
            "Leidas 57 mascaras de -> train\n",
            "Leidas 58 mascaras de -> train\n",
            "Leidas 59 mascaras de -> train\n",
            "Leidas 60 mascaras de -> train\n",
            "Leidas 61 mascaras de -> train\n",
            "Leidas 62 mascaras de -> train\n",
            "Leidas 63 mascaras de -> train\n",
            "Leidas 64 mascaras de -> train\n",
            "Leidas 65 mascaras de -> train\n",
            "Leidas 66 mascaras de -> train\n",
            "Leidas 67 mascaras de -> train\n",
            "Leidas 68 mascaras de -> train\n",
            "Leidas 69 mascaras de -> train\n",
            "Leidas 70 mascaras de -> train\n",
            "Leidas 71 mascaras de -> train\n",
            "Leidas 72 mascaras de -> train\n",
            "Leidas 73 mascaras de -> train\n",
            "Leidas 74 mascaras de -> train\n",
            "Leidas 75 mascaras de -> train\n",
            "Leidas 76 mascaras de -> train\n",
            "Leidas 77 mascaras de -> train\n",
            "Leidas 78 mascaras de -> train\n",
            "Leidas 79 mascaras de -> train\n",
            "Leidas 80 mascaras de -> train\n",
            "Leidas 81 mascaras de -> train\n",
            "Leidas 82 mascaras de -> train\n",
            "Leidas 83 mascaras de -> train\n",
            "Leidas 84 mascaras de -> train\n",
            "Leidas 85 mascaras de -> train\n",
            "Leidas 86 mascaras de -> train\n",
            "Leidas 87 mascaras de -> train\n",
            "Leidas 88 mascaras de -> train\n",
            "Leidas 89 mascaras de -> train\n",
            "Leidas 90 mascaras de -> train\n",
            "Leidas 91 mascaras de -> train\n",
            "Leidas 92 mascaras de -> train\n",
            "Leidas 93 mascaras de -> train\n",
            "Leidas 94 mascaras de -> train\n",
            "Leidas 95 mascaras de -> train\n",
            "Leidas 96 mascaras de -> train\n",
            "Leidas 1 imágenes de -> test\n",
            "Leidas 2 imágenes de -> test\n",
            "Leidas 3 imágenes de -> test\n",
            "Leidas 4 imágenes de -> test\n",
            "Leidas 5 imágenes de -> test\n",
            "Leidas 6 imágenes de -> test\n",
            "Leidas 7 imágenes de -> test\n",
            "Leidas 8 imágenes de -> test\n",
            "Leidas 9 imágenes de -> test\n",
            "Leidas 10 imágenes de -> test\n",
            "Leidas 11 imágenes de -> test\n",
            "Leidas 12 imágenes de -> test\n",
            "Leidas 13 imágenes de -> test\n",
            "Leidas 14 imágenes de -> test\n",
            "Leidas 15 imágenes de -> test\n",
            "Leidas 16 imágenes de -> test\n",
            "Leidas 17 imágenes de -> test\n",
            "Leidas 18 imágenes de -> test\n",
            "Leidas 19 imágenes de -> test\n",
            "Leidas 20 imágenes de -> test\n",
            "Leidas 21 imágenes de -> test\n",
            "Leidas 22 imágenes de -> test\n",
            "Leidas 23 imágenes de -> test\n",
            "Leidas 24 imágenes de -> test\n",
            "Leidas 25 imágenes de -> test\n",
            "Leidas 26 imágenes de -> test\n",
            "Leidas 27 imágenes de -> test\n",
            "Leidas 28 imágenes de -> test\n",
            "Leidas 29 imágenes de -> test\n",
            "Leidas 30 imágenes de -> test\n",
            "Leidas 31 imágenes de -> test\n",
            "Leidas 32 imágenes de -> test\n",
            "Leidas 33 imágenes de -> test\n",
            "Leidas 34 imágenes de -> test\n",
            "Leidas 35 imágenes de -> test\n",
            "Leidas 36 imágenes de -> test\n",
            "Leidas 37 imágenes de -> test\n",
            "Leidas 38 imágenes de -> test\n",
            "Leidas 39 imágenes de -> test\n",
            "Leidas 40 imágenes de -> test\n",
            "Leidas 41 imágenes de -> test\n",
            "Leidas 42 imágenes de -> test\n",
            "Leidas 43 imágenes de -> test\n",
            "Leidas 44 imágenes de -> test\n",
            "Leidas 45 imágenes de -> test\n",
            "Leidas 46 imágenes de -> test\n",
            "Leidas 47 imágenes de -> test\n",
            "Leidas 48 imágenes de -> test\n",
            "Leidas 49 imágenes de -> test\n",
            "Leidas 50 imágenes de -> test\n",
            "Leidas 51 imágenes de -> test\n",
            "Leidas 52 imágenes de -> test\n",
            "Leidas 53 imágenes de -> test\n",
            "Leidas 54 imágenes de -> test\n",
            "Leidas 55 imágenes de -> test\n",
            "Leidas 56 imágenes de -> test\n",
            "Leidas 57 imágenes de -> test\n",
            "Leidas 58 imágenes de -> test\n",
            "Leidas 59 imágenes de -> test\n",
            "Leidas 60 imágenes de -> test\n",
            "Leidas 61 imágenes de -> test\n",
            "Leidas 62 imágenes de -> test\n",
            "Leidas 63 imágenes de -> test\n",
            "Leidas 64 imágenes de -> test\n",
            "Leidas 65 imágenes de -> test\n",
            "Leidas 66 imágenes de -> test\n",
            "Leidas 67 imágenes de -> test\n",
            "Leidas 68 imágenes de -> test\n",
            "Leidas 69 imágenes de -> test\n",
            "Leidas 70 imágenes de -> test\n",
            "Leidas 71 imágenes de -> test\n",
            "Leidas 72 imágenes de -> test\n",
            "Leidas 73 imágenes de -> test\n",
            "Leidas 74 imágenes de -> test\n",
            "Leidas 1 mascaras de -> test\n",
            "Leidas 2 mascaras de -> test\n",
            "Leidas 3 mascaras de -> test\n",
            "Leidas 4 mascaras de -> test\n",
            "Leidas 5 mascaras de -> test\n",
            "Leidas 6 mascaras de -> test\n",
            "Leidas 7 mascaras de -> test\n",
            "Leidas 8 mascaras de -> test\n",
            "Leidas 9 mascaras de -> test\n",
            "Leidas 10 mascaras de -> test\n",
            "Leidas 11 mascaras de -> test\n",
            "Leidas 12 mascaras de -> test\n",
            "Leidas 13 mascaras de -> test\n",
            "Leidas 14 mascaras de -> test\n",
            "Leidas 15 mascaras de -> test\n",
            "Leidas 16 mascaras de -> test\n",
            "Leidas 17 mascaras de -> test\n",
            "Leidas 18 mascaras de -> test\n",
            "Leidas 19 mascaras de -> test\n",
            "Leidas 20 mascaras de -> test\n",
            "Leidas 21 mascaras de -> test\n",
            "Leidas 22 mascaras de -> test\n",
            "Leidas 23 mascaras de -> test\n",
            "Leidas 24 mascaras de -> test\n",
            "Leidas 25 mascaras de -> test\n",
            "Leidas 26 mascaras de -> test\n",
            "Leidas 27 mascaras de -> test\n",
            "Leidas 28 mascaras de -> test\n",
            "Leidas 29 mascaras de -> test\n",
            "Leidas 30 mascaras de -> test\n",
            "Leidas 31 mascaras de -> test\n",
            "Leidas 32 mascaras de -> test\n",
            "Leidas 33 mascaras de -> test\n",
            "Leidas 34 mascaras de -> test\n",
            "Leidas 35 mascaras de -> test\n",
            "Leidas 36 mascaras de -> test\n",
            "Leidas 37 mascaras de -> test\n",
            "Leidas 38 mascaras de -> test\n",
            "Leidas 39 mascaras de -> test\n",
            "Leidas 40 mascaras de -> test\n",
            "Leidas 41 mascaras de -> test\n",
            "Leidas 42 mascaras de -> test\n",
            "Leidas 43 mascaras de -> test\n",
            "Leidas 44 mascaras de -> test\n",
            "Leidas 45 mascaras de -> test\n",
            "Leidas 46 mascaras de -> test\n",
            "Leidas 47 mascaras de -> test\n",
            "Leidas 48 mascaras de -> test\n",
            "Leidas 49 mascaras de -> test\n",
            "Leidas 50 mascaras de -> test\n",
            "Leidas 51 mascaras de -> test\n",
            "Leidas 52 mascaras de -> test\n",
            "Leidas 53 mascaras de -> test\n",
            "Leidas 54 mascaras de -> test\n",
            "Leidas 55 mascaras de -> test\n",
            "Leidas 56 mascaras de -> test\n",
            "Leidas 57 mascaras de -> test\n",
            "Leidas 58 mascaras de -> test\n",
            "Leidas 59 mascaras de -> test\n",
            "Leidas 60 mascaras de -> test\n",
            "Leidas 61 mascaras de -> test\n",
            "Leidas 62 mascaras de -> test\n",
            "Leidas 63 mascaras de -> test\n",
            "Leidas 64 mascaras de -> test\n",
            "Leidas 65 mascaras de -> test\n",
            "Leidas 66 mascaras de -> test\n",
            "Leidas 67 mascaras de -> test\n",
            "Leidas 68 mascaras de -> test\n",
            "Leidas 69 mascaras de -> test\n",
            "Leidas 70 mascaras de -> test\n",
            "Leidas 71 mascaras de -> test\n",
            "Leidas 72 mascaras de -> test\n",
            "Leidas 73 mascaras de -> test\n",
            "Leidas 74 mascaras de -> test\n"
          ],
          "name": "stdout"
        }
      ]
    },
    {
      "cell_type": "code",
      "metadata": {
        "id": "JVUWEKYiZ85h",
        "colab_type": "code",
        "colab": {
          "base_uri": "https://localhost:8080/",
          "height": 35
        },
        "outputId": "3bd76f9b-d816-4a90-87b1-3cceaa588573"
      },
      "source": [
        "#Convertimos las mascaras en dos canales, uno solo contiene la información del fondo\n",
        "#y otra de los peatones, 0 y 1\n",
        "mascaras_train = tf.keras.utils.to_categorical(mascaras_train, num_classes=2, dtype='float32')   \n",
        "np.shape(mascaras_train)\n",
        "mascaras_test = tf.keras.utils.to_categorical(mascaras_test, num_classes=2, dtype='float32')   \n",
        "np.shape(mascaras_test)"
      ],
      "execution_count": null,
      "outputs": [
        {
          "output_type": "execute_result",
          "data": {
            "text/plain": [
              "(74, 256, 256, 2)"
            ]
          },
          "metadata": {
            "tags": []
          },
          "execution_count": 4
        }
      ]
    },
    {
      "cell_type": "code",
      "metadata": {
        "id": "gIz3LQE3bEyg",
        "colab_type": "code",
        "colab": {
          "base_uri": "https://localhost:8080/",
          "height": 87
        },
        "outputId": "9fde51bf-f21d-4fd7-ec1c-458f9b1dc5ff"
      },
      "source": [
        "print(np.shape(imagenes_train))\n",
        "print(np.shape(mascaras_train))\n",
        "print(np.shape(imagenes_test))\n",
        "print(np.shape(mascaras_test))"
      ],
      "execution_count": null,
      "outputs": [
        {
          "output_type": "stream",
          "text": [
            "(96, 256, 256, 3)\n",
            "(96, 256, 256, 2)\n",
            "(74, 256, 256, 3)\n",
            "(74, 256, 256, 2)\n"
          ],
          "name": "stdout"
        }
      ]
    },
    {
      "cell_type": "markdown",
      "metadata": {
        "id": "l56f3DruJ0Lh",
        "colab_type": "text"
      },
      "source": [
        "Modelo de red autocodificadora"
      ]
    },
    {
      "cell_type": "code",
      "metadata": {
        "id": "KR56z2tDCfxT",
        "colab_type": "code",
        "colab": {}
      },
      "source": [
        "#la primera capa indicamos la dimensión de las imágenes de entrada\n",
        "inputs = tf.keras.layers.Input((256,256,3))\n",
        "#convolucionamos con una capa de convolución con 64 filtros y núcleos de 3*3, la función activadora es la relu\n",
        "down_conv_1 = tf.keras.layers.Conv2D(filters=64, kernel_size=(3,3), strides=(1,1), padding=\"same\",  activation='relu')(inputs)\n",
        "#aplicamos maxpooling\n",
        "down_conv_1 = tf.keras.layers.MaxPool2D(pool_size=(2,2), strides=(2,2), padding=\"same\")(down_conv_1)\n",
        "#repetimos el proceso, cada vez obtenemos matrices de menor dimensión, codificando los datos relevantes\n",
        "down_conv_2 = tf.keras.layers.Conv2D(filters=64, kernel_size=(3,3), strides=(1,1), padding=\"same\",  activation='relu')(down_conv_1)\n",
        "down_conv_2 = tf.keras.layers.MaxPool2D(pool_size=(2,2), strides=(2,2), padding=\"same\")(down_conv_2)\n",
        "    \n",
        "down_conv_3 = tf.keras.layers.Conv2D(filters=64, kernel_size=(3,3), strides=(1,1), padding=\"same\",  activation='relu')(down_conv_2)\n",
        "    \n",
        "down_conv_4 = tf.keras.layers.Conv2D(filters=64, kernel_size=(3,3), strides=(1,1), padding=\"same\")(down_conv_3)\n",
        "#la siguiente parte es la decodificadora que nos lleva los datos a un espacio latente con las características obtenidas con las \n",
        "#capas de convolución, para ello usaremos Conv2DTraspose hasta obtener una dimension del espacio latente igual al de las máscaras \n",
        "up_conv_1 = tf.keras.layers.Conv2DTranspose(filters=64, kernel_size=(4,4), strides=(2,2), padding=\"same\")(down_conv_4)\n",
        "    \n",
        "up_conv_2 = tf.keras.layers.Conv2DTranspose(filters=64, kernel_size=(4,4), strides=(2,2), padding=\"same\")(up_conv_1)\n",
        "#En la última capa usaremos una función de activación softmax para realizar la clasificación  \n",
        "outputs = tf.keras.layers.Conv2D(filters=2, kernel_size=(1,1), strides=(1,1), padding=\"same\", activation=\"softmax\")(up_conv_2)\n",
        "\n",
        "model = tf.keras.Model(inputs = inputs, outputs = outputs)"
      ],
      "execution_count": null,
      "outputs": []
    },
    {
      "cell_type": "markdown",
      "metadata": {
        "id": "VHlN-6ZTLG-N",
        "colab_type": "text"
      },
      "source": [
        "compilamos la red"
      ]
    },
    {
      "cell_type": "code",
      "metadata": {
        "id": "J9Cg8nlRDMYv",
        "colab_type": "code",
        "colab": {}
      },
      "source": [
        "model.compile(optimizer=tf.keras.optimizers.RMSprop(lr=0.01),\n",
        "              loss=\"categorical_crossentropy\",\n",
        "              #añadimos la métrica meaniou para ver como de distintas son las máscaras \n",
        "              #generadas en el espacio latente y la de los datos dados\n",
        "              metrics=['accuracy', tf.keras.metrics.MeanIoU(num_classes=2)])"
      ],
      "execution_count": null,
      "outputs": []
    },
    {
      "cell_type": "markdown",
      "metadata": {
        "id": "xJ2wIfSPLVqk",
        "colab_type": "text"
      },
      "source": [
        "Entrenamos la red"
      ]
    },
    {
      "cell_type": "code",
      "metadata": {
        "id": "1qj4WuaOEJUX",
        "colab_type": "code",
        "colab": {
          "base_uri": "https://localhost:8080/",
          "height": 211
        },
        "outputId": "1fcdec02-e8f1-478b-d369-3a2a9d24f448"
      },
      "source": [
        "history = model.fit(imagenes_train, mascaras_train, epochs=5, validation_data=(imagenes_test, mascaras_test))"
      ],
      "execution_count": null,
      "outputs": [
        {
          "output_type": "stream",
          "text": [
            "Epoch 1/5\n",
            "3/3 [==============================] - 39s 13s/step - loss: 5.5235 - accuracy: 0.5191 - mean_io_u: 0.3596 - val_loss: 2.9573 - val_accuracy: 0.8165 - val_mean_io_u: 0.6899\n",
            "Epoch 2/5\n",
            "3/3 [==============================] - 39s 13s/step - loss: 3.8451 - accuracy: 0.7614 - mean_io_u: 0.6148 - val_loss: 2.9573 - val_accuracy: 0.8165 - val_mean_io_u: 0.6899\n",
            "Epoch 3/5\n",
            "3/3 [==============================] - 39s 13s/step - loss: 3.8451 - accuracy: 0.7614 - mean_io_u: 0.6148 - val_loss: 2.9573 - val_accuracy: 0.8165 - val_mean_io_u: 0.6899\n",
            "Epoch 4/5\n",
            "3/3 [==============================] - 39s 13s/step - loss: 3.8451 - accuracy: 0.7614 - mean_io_u: 0.6148 - val_loss: 2.9573 - val_accuracy: 0.8165 - val_mean_io_u: 0.6899\n",
            "Epoch 5/5\n",
            "3/3 [==============================] - 39s 13s/step - loss: 3.8451 - accuracy: 0.7614 - mean_io_u: 0.6148 - val_loss: 2.9573 - val_accuracy: 0.8165 - val_mean_io_u: 0.6899\n"
          ],
          "name": "stdout"
        }
      ]
    },
    {
      "cell_type": "markdown",
      "metadata": {
        "id": "Ear1iUOWLYnU",
        "colab_type": "text"
      },
      "source": [
        "Calculamos las predicciones y visualizamos la máscara y el espacio latente de la predicción"
      ]
    },
    {
      "cell_type": "code",
      "metadata": {
        "id": "co9X3Rc9qdfX",
        "colab_type": "code",
        "colab": {}
      },
      "source": [
        "predicciones = model.predict(imagenes_test)"
      ],
      "execution_count": null,
      "outputs": []
    },
    {
      "cell_type": "code",
      "metadata": {
        "id": "nTvEOCbwtTsJ",
        "colab_type": "code",
        "colab": {
          "base_uri": "https://localhost:8080/",
          "height": 287
        },
        "outputId": "5d768011-71e5-4a71-f54d-975b34a114c7"
      },
      "source": [
        "plt.imshow(mascaras_test[0,:,:,0])"
      ],
      "execution_count": null,
      "outputs": [
        {
          "output_type": "execute_result",
          "data": {
            "text/plain": [
              "<matplotlib.image.AxesImage at 0x7fa0617e2668>"
            ]
          },
          "metadata": {
            "tags": []
          },
          "execution_count": 245
        },
        {
          "output_type": "display_data",
          "data": {
            "image/png": "[encoded data removed]",
            "text/plain": [
              "<Figure size 432x288 with 1 Axes>"
            ]
          },
          "metadata": {
            "tags": [],
            "needs_background": "light"
          }
        }
      ]
    },
    {
      "cell_type": "code",
      "metadata": {
        "id": "wd_kEz2ps0C8",
        "colab_type": "code",
        "colab": {
          "base_uri": "https://localhost:8080/",
          "height": 287
        },
        "outputId": "1d9e0a02-87f9-44d6-f4f0-491450df2dea"
      },
      "source": [
        "plt.imshow(predicciones[1,:,:,0])"
      ],
      "execution_count": null,
      "outputs": [
        {
          "output_type": "execute_result",
          "data": {
            "text/plain": [
              "<matplotlib.image.AxesImage at 0x7f39b302a2b0>"
            ]
          },
          "metadata": {
            "tags": []
          },
          "execution_count": 10
        },
        {
          "output_type": "display_data",
          "data": {
            "image/png": "[encoded data removed]",
            "text/plain": [
              "<Figure size 432x288 with 1 Axes>"
            ]
          },
          "metadata": {
            "tags": [],
            "needs_background": "light"
          }
        }
      ]
    }
  ]
}